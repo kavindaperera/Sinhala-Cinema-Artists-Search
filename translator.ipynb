{
 "cells": [
  {
   "cell_type": "code",
   "execution_count": 13,
   "metadata": {},
   "outputs": [],
   "source": [
    "from googletrans import Translator\n",
    "from google.transliteration import transliterate_word\n",
    "import json\n",
    "import re\n",
    "import os, time"
   ]
  },
  {
   "cell_type": "code",
   "execution_count": null,
   "metadata": {},
   "outputs": [],
   "source": []
  },
  {
   "cell_type": "code",
   "execution_count": 14,
   "metadata": {},
   "outputs": [],
   "source": [
    "filename = 'artists-corpus/sinhala_artists_data_1.json'"
   ]
  },
  {
   "cell_type": "code",
   "execution_count": 15,
   "metadata": {},
   "outputs": [],
   "source": [
    "with open (filename,'w') as f:\n",
    "            f.write(json.dumps([]))  "
   ]
  },
  {
   "cell_type": "code",
   "execution_count": null,
   "metadata": {},
   "outputs": [],
   "source": []
  },
  {
   "cell_type": "code",
   "execution_count": 16,
   "metadata": {},
   "outputs": [],
   "source": [
    "def translate(text):\n",
    "    if text:\n",
    "        ar = translator.translate(text, dest='si')\n",
    "        return ar.text\n",
    "    else:\n",
    "        return \"\""
   ]
  },
  {
   "cell_type": "code",
   "execution_count": 17,
   "metadata": {},
   "outputs": [],
   "source": [
    "def transliterate(text):\n",
    "    ar = transliterate_word(text, lang_code='si')\n",
    "    return ar[0]"
   ]
  },
  {
   "cell_type": "code",
   "execution_count": 18,
   "metadata": {},
   "outputs": [],
   "source": [
    "def translate_filmography(filmography):\n",
    "    print (\"started translating filmography...\")\n",
    "    response = []\n",
    "    for film in filmography:\n",
    "        film_si = {}\n",
    "        film_si['film_name_si'] =  transliterate(film['film_name_en']) \n",
    "        film_si['role_name_si'] =  translate(film['role_name_en'])\n",
    "        \n",
    "        print(film_si)\n",
    "        \n",
    "        response.append(film_si)\n",
    "\n",
    "        \n",
    "    print (\"translating filmography completed!\")\n",
    "    return response"
   ]
  },
  {
   "cell_type": "code",
   "execution_count": 19,
   "metadata": {},
   "outputs": [],
   "source": [
    "def translate_biography(bio):\n",
    "    print (\"started translating bio...\")\n",
    "    bio = parse_biography(bio)\n",
    "    translation = \"\"\n",
    "    for line in bio:\n",
    "        if len(line) > 2:\n",
    "            translation += translate(line)\n",
    "        \n",
    "    print (\"translating bio completed!\")\n",
    "    return translation     "
   ]
  },
  {
   "cell_type": "code",
   "execution_count": 20,
   "metadata": {},
   "outputs": [],
   "source": [
    "def parse_biography(bio):\n",
    "    return bio.strip().split(\"\\r\\n\\t\")"
   ]
  },
  {
   "cell_type": "code",
   "execution_count": 21,
   "metadata": {},
   "outputs": [],
   "source": [
    "def translate_awards(awards):\n",
    "    print (\"started translating awards...\")\n",
    "    response = []\n",
    "    \n",
    "    for award in awards:\n",
    "        award_si = {}\n",
    "        award_si['award_name_si'] =  \"\"\n",
    "        award_si['award_ceremony_name_si'] =  \"\"\n",
    "        award_si['film_name_si'] =  \"\"\n",
    "        \n",
    "        if (award['award_name_en']): \n",
    "            award_si['award_name_si'] =  translate(award['award_name_en']) \n",
    "            \n",
    "        if (award['award_ceremony_name_en']): \n",
    "            award_si['award_ceremony_name_si'] =  translate(award['award_ceremony_name_en'])\n",
    "            \n",
    "        if (award['film_name_en']): \n",
    "            award_si['film_name_si'] =  transliterate(award['film_name_en'])\n",
    "        \n",
    "        print(award_si)\n",
    "        \n",
    "        response.append(award_si)\n",
    "\n",
    "        \n",
    "    print (\"translating awards completed!\")\n",
    "    return response\n",
    "    "
   ]
  },
  {
   "cell_type": "code",
   "execution_count": 22,
   "metadata": {},
   "outputs": [],
   "source": [
    "def translate_artist_json(artist_json, start, end):\n",
    "    \n",
    "    print(\"translating from \" + str(start) + \" to \" + str(end-1) + \" ... \", )\n",
    "    \n",
    "    for idx in range(start, end):\n",
    "        artist = artist_json[idx]\n",
    "        \n",
    "        print(\"started translating: \" + artist['known_as_en'] + \" | index: \" + str(idx) )\n",
    "        \n",
    "        artist_data = {}\n",
    "        \n",
    "        known_as_si = transliterate(artist['known_as_en'])\n",
    "        \n",
    "        if artist['real_name_en'] != '':\n",
    "            real_name_si = transliterate(artist['real_name_en'])\n",
    "        else:    \n",
    "            real_name_si = known_as_si\n",
    "            \n",
    "        birth_si = translate(artist['birth_en'])\n",
    "        death_si = translate(artist['death_en'])\n",
    "        biography_si = translate_biography(artist['biography_en'])\n",
    "        national_awards_si = translate_awards(artist['national_awards_en'])\n",
    "        filmography_si = translate_filmography(artist['filmography_en'])\n",
    "       \n",
    "        # final json format\n",
    "        artist_data[\"known_as_en\"] = artist['known_as_en']\n",
    "        \n",
    "        if (artist['known_as_si']==\"\"):\n",
    "            artist_data[\"known_as_si\"] = known_as_si\n",
    "        else:    \n",
    "            artist_data[\"known_as_si\"] = artist['known_as_si']\n",
    "            \n",
    "        if (artist['real_name_en'] == ''):\n",
    "            artist_data[\"real_name_en\"] = artist['known_as_en'] \n",
    "        else:    \n",
    "            artist_data[\"real_name_en\"] = artist['real_name_en']    \n",
    "        \n",
    "\n",
    "        if (artist['real_name_en'] == artist['known_as_en']): \n",
    "            artist_data[\"real_name_si\"] = artist['known_as_si']\n",
    "        else:\n",
    "            artist_data[\"real_name_si\"] = real_name_si\n",
    "        \n",
    "        artist_data[\"birth_en\"] = artist['birth_en']\n",
    "        artist_data[\"birth_si\"] = birth_si\n",
    "        \n",
    "        artist_data[\"death_en\"] = artist['death_en']\n",
    "        artist_data[\"death_si\"] = death_si\n",
    "        \n",
    "        artist_data[\"biography_en\"] = artist['biography_en']\n",
    "        artist_data[\"biography_si\"] = biography_si\n",
    "        \n",
    "        artist_data[\"national_awards_en\"] = artist['national_awards_en']\n",
    "        artist_data[\"national_awards_si\"] = national_awards_si\n",
    "        \n",
    "        artist_data[\"filmography_en\"] = artist['filmography_en']\n",
    "        artist_data[\"filmography_si\"] = filmography_si\n",
    "\n",
    "\n",
    "        with open (filename,'r') as f:\n",
    "            data = json.load(f)\n",
    "        \n",
    "        data.append(artist_data)\n",
    "        \n",
    "        with open(filename, \"w\") as f:\n",
    "            json.dump(data, f)\n",
    "            \n",
    "        print(\"completed translating : \" + artist_data['known_as_si'] )    \n"
   ]
  },
  {
   "cell_type": "code",
   "execution_count": 23,
   "metadata": {},
   "outputs": [
    {
     "name": "stdout",
     "output_type": "stream",
     "text": [
      "translating 366 records... \n"
     ]
    }
   ],
   "source": [
    "translator = Translator()\n",
    "content = open(\"artists-corpus/artists_data.json\", 'r').read()\n",
    "artist_json = json.loads(content)\n",
    "\n",
    "print(\"translating \" + str(len(artist_json)) + \" records... \", )\n"
   ]
  },
  {
   "cell_type": "code",
   "execution_count": 24,
   "metadata": {},
   "outputs": [
    {
     "name": "stdout",
     "output_type": "stream",
     "text": [
      "translating from 0 to 0 ... \n",
      "started translating: Rukmani Devi | index: 0\n",
      "started translating bio...\n",
      "translating bio completed!\n",
      "started translating awards...\n",
      "{'award_name_si': 'ප්රියතම නිළිය [1 වන] 100,091', 'award_ceremony_name_si': 'ඩයිනමින්ගේ අදියර 1956 සිට සාදන ලදී', 'film_name_si': ''}\n",
      "{'award_name_si': 'හොඳම නිළිය', 'award_ceremony_name_si': '1 වන දීපනම්ිකා සම්මාන උළෙල 1956', 'film_name_si': 'උමතු විශ්වාසය'}\n",
      "{'award_name_si': 'ප්රියතම නිළිය [1 වන]', 'award_ceremony_name_si': 'ස්වර්ණදරා සම්මාන උළෙල 1959', 'film_name_si': ''}\n",
      "{'award_name_si': 'ප්රියතම ගායකයා - ගැහැණු', 'award_ceremony_name_si': 'සරුවීරියා හෝඩ්ස් බලන්න - 1966', 'film_name_si': ''}\n",
      "{'award_name_si': 'විශේෂ සම්මාන', 'award_ceremony_name_si': '6 වන සරස්වියා සම්මාන - 1969', 'film_name_si': 'අබුද්දස්ස කලේ'}\n",
      "{'award_name_si': '\"දීපරානි\" විශේෂ සම්මානය', 'award_ceremony_name_si': '3 වන දීපනම්ිකා සම්මාන උළෙල 1972', 'film_name_si': ''}\n",
      "{'award_name_si': 'හොඳම ගායකයා - ගැහැණු: doi doi', 'award_ceremony_name_si': '1 වන ජනාධිපති සම්මානය 1979', 'film_name_si': 'අහසින් පොලොවට'}\n",
      "{'award_name_si': 'විශේෂ සම්මානය', 'award_ceremony_name_si': '14 වන කූරස්වියාව සම්මාන - 1986', 'film_name_si': ''}\n",
      "translating awards completed!\n",
      "started translating filmography...\n",
      "{'film_name_si': 'කඩවුණු පොරොන්දුව', 'role_name_si': 'ප්රධාන නිළිය'}\n",
      "{'film_name_si': 'කපටි ආරක්ෂකයා', 'role_name_si': 'ප්රධාන නිළිය'}\n",
      "{'film_name_si': 'වෙරදුනු කුරුමානම', 'role_name_si': 'ප්රධාන නිළිය'}\n",
      "{'film_name_si': 'පෙරලෙන ඉරණම', 'role_name_si': 'ප්රධාන නිළිය'}\n",
      "{'film_name_si': 'හදිසි විනිශ්චය', 'role_name_si': 'ප්රධාන නිළිය'}\n",
      "{'film_name_si': 'සෙන්ගවුණු පිළිතුර', 'role_name_si': 'ප්රධාන නිළිය'}\n",
      "{'film_name_si': 'උමතු විශ්වාසය', 'role_name_si': 'නිළිය'}\n",
      "{'film_name_si': 'කෙළේ හඬ', 'role_name_si': 'ප්රධාන නිළිය'}\n",
      "{'film_name_si': 'ඉරංගංඉඑ', 'role_name_si': 'ප්රධාන නිළිය'}\n",
      "{'film_name_si': 'මතභේදය', 'role_name_si': 'ප්රධාන නිළිය'}\n",
      "{'film_name_si': 'පෙරකදෝරු බෙන', 'role_name_si': 'ප්රධාන නිළිය'}\n",
      "{'film_name_si': 'දොස්තර', 'role_name_si': 'ප්රධාන නිළිය'}\n",
      "{'film_name_si': 'සිරියලතා', 'role_name_si': 'ප්රධාන නිළිය'}\n",
      "{'film_name_si': 'දෛවයෝගය', 'role_name_si': 'ප්රධාන නිළිය'}\n",
      "{'film_name_si': 'කවට අන්දරේ', 'role_name_si': 'ප්රධාන නිළිය'}\n",
      "{'film_name_si': 'නළගන', 'role_name_si': 'ප්රධාන නිළිය'}\n",
      "{'film_name_si': 'දස්කොන්', 'role_name_si': 'ප්රධාන නිළිය'}\n",
      "{'film_name_si': 'මංගලිකා', 'role_name_si': 'ප්රධාන නිළිය'}\n",
      "{'film_name_si': 'හෙට ප්\\u200dරමාද වැඩි', 'role_name_si': 'නිළිය'}\n",
      "{'film_name_si': 'සැමියා බිරිඳගේ දේවියය', 'role_name_si': 'ප්රධාන නිළිය'}\n",
      "{'film_name_si': 'සතුටි කඳුලි', 'role_name_si': 'ප්රධාන නිළිය'}\n",
      "{'film_name_si': 'ල දළු', 'role_name_si': 'ප්රධාන නිළිය'}\n",
      "{'film_name_si': 'සම්පත', 'role_name_si': 'ප්රධාන නිළිය'}\n",
      "{'film_name_si': 'හතර කේන්දරේ', 'role_name_si': 'නිළිය'}\n",
      "{'film_name_si': 'පිපෙන කුමුදු', 'role_name_si': 'ප්රධාන නිළිය'}\n",
      "{'film_name_si': 'මගුල් පෝරුව', 'role_name_si': 'නිළිය'}\n",
      "{'film_name_si': 'රෙන ගිරවු', 'role_name_si': 'නිළිය'}\n",
      "{'film_name_si': 'අබුද්දස්ස කලේ', 'role_name_si': 'ප්රධාන නිළිය'}\n",
      "{'film_name_si': 'පාර වළලු', 'role_name_si': 'නිළිය'}\n",
      "{'film_name_si': 'රෝමෙඕ ජුලිඑට් කතාවක්', 'role_name_si': 'නිළිය'}\n",
      "{'film_name_si': 'ගීත', 'role_name_si': 'නිළිය'}\n",
      "{'film_name_si': 'නිම වළල්ල', 'role_name_si': 'නිළිය'}\n",
      "{'film_name_si': 'සීයේ නෝට්ටුව', 'role_name_si': 'නිළිය'}\n",
      "{'film_name_si': 'සමනල කුමරියෝ', 'role_name_si': 'නිළිය'}\n",
      "{'film_name_si': 'සහනය', 'role_name_si': 'නිළිය'}\n",
      "{'film_name_si': 'හතර වටේ', 'role_name_si': 'ප්රධාන නිළිය'}\n",
      "{'film_name_si': 'වීදුරු ගෙවල්', 'role_name_si': 'ප්රධාන නිළිය'}\n",
      "{'film_name_si': 'ඉහත ආත්මය', 'role_name_si': 'නිළිය'}\n",
      "{'film_name_si': 'සුහද පැතුම', 'role_name_si': 'නිළිය'}\n",
      "{'film_name_si': 'හොඳට හොඳි', 'role_name_si': 'නිළිය'}\n",
      "{'film_name_si': 'දිනුම් කනුව', 'role_name_si': 'ප්රධාන නිළිය'}\n",
      "{'film_name_si': 'දිනුම් කනුව', 'role_name_si': 'නිළිය'}\n",
      "{'film_name_si': 'සාගරික', 'role_name_si': 'නිළිය'}\n",
      "{'film_name_si': 'ලසන්ද', 'role_name_si': 'නිළිය'}\n",
      "{'film_name_si': 'ජීවන ගඟ', 'role_name_si': 'නිළිය'}\n",
      "{'film_name_si': 'හිත හොඳ මිනිහෙක්', 'role_name_si': 'නිළිය'}\n",
      "{'film_name_si': 'ඔබි මමී', 'role_name_si': 'නිළිය'}\n",
      "{'film_name_si': 'සුකිරි කෙල්ල', 'role_name_si': 'නිළිය'}\n",
      "{'film_name_si': 'කොහොම කියන්නද', 'role_name_si': 'නිළිය'}\n",
      "{'film_name_si': 'ජීවන ගීතය', 'role_name_si': 'නිළිය'}\n",
      "{'film_name_si': 'ලස්සන දවසක්', 'role_name_si': 'නිළිය'}\n",
      "{'film_name_si': 'සාධන', 'role_name_si': 'නිළිය'}\n",
      "{'film_name_si': 'නයන', 'role_name_si': 'නිළිය'}\n",
      "{'film_name_si': 'කුඩා රජ', 'role_name_si': 'නිළිය'}\n",
      "{'film_name_si': 'වසන', 'role_name_si': 'නිළිය'}\n",
      "{'film_name_si': 'හරිම බදු තුනක්', 'role_name_si': 'නිළිය'}\n",
      "{'film_name_si': 'උන්නත් දාහි මලත් දාහි', 'role_name_si': 'නිළිය'}\n",
      "{'film_name_si': 'හරියට හරි', 'role_name_si': 'නිළිය'}\n",
      "{'film_name_si': 'ඔන්න මාමේ කෙල්ල පනාපි', 'role_name_si': 'නිළිය'}\n",
      "{'film_name_si': 'සරදියෙල්ගේ පුතා', 'role_name_si': 'නිළිය'}\n",
      "{'film_name_si': 'අදරෙඉ මන් අදරෙඉ', 'role_name_si': 'නිළිය'}\n",
      "{'film_name_si': 'නෙදෙයෝ', 'role_name_si': 'නිළිය'}\n",
      "{'film_name_si': 'රන් තිලක', 'role_name_si': 'නිළිය'}\n",
      "{'film_name_si': 'සුදු පරවියෝ', 'role_name_si': 'නිළිය'}\n",
      "{'film_name_si': 'ශ්\\u200dරී මැදර', 'role_name_si': 'නිළිය'}\n",
      "{'film_name_si': 'හිතුවොත් හිතුවාමි', 'role_name_si': 'නිළිය'}\n",
      "{'film_name_si': 'දෙවියනි ඔබ කොහිද', 'role_name_si': 'නිළිය'}\n",
      "{'film_name_si': 'චීන චීන නෝනා', 'role_name_si': 'නිළිය'}\n",
      "{'film_name_si': 'කාතිරුපෙන් උනකාහ [ ටැමිල් ]', 'role_name_si': '[ දෙමළ ]'}\n",
      "{'film_name_si': 'සජ', 'role_name_si': 'නිළිය'}\n",
      "{'film_name_si': 'ටොම් පචය', 'role_name_si': 'නිළිය'}\n",
      "{'film_name_si': 'නං උංගල් ථොළ්හං [ ටැමිල් ]', 'role_name_si': '[ දෙමළ ]'}\n",
      "{'film_name_si': 'මදුවන්ති', 'role_name_si': 'නිළිය'}\n",
      "{'film_name_si': 'කුණ්ඩල කේශී', 'role_name_si': 'නිළිය'}\n",
      "{'film_name_si': 'අප්සරා', 'role_name_si': 'නිළිය'}\n",
      "{'film_name_si': 'අහසින් පොලොවට', 'role_name_si': 'නිළිය'}\n",
      "{'film_name_si': 'සමන්මලී', 'role_name_si': 'නිළිය'}\n",
      "{'film_name_si': 'ජීවන කඳුළු', 'role_name_si': 'නිළිය'}\n",
      "{'film_name_si': 'අමල් බිසෝ', 'role_name_si': 'නිළිය'}\n",
      "{'film_name_si': 'රන් කුරුල්ලෝ', 'role_name_si': 'නිළිය'}\n",
      "{'film_name_si': 'මොනරතෙන්න', 'role_name_si': 'නිළිය'}\n",
      "{'film_name_si': 'අනුෂ', 'role_name_si': 'නිළිය'}\n",
      "{'film_name_si': 'පොඩි මල්ලි', 'role_name_si': 'නිළිය'}\n",
      "{'film_name_si': 'නුවන් රේණු', 'role_name_si': 'නිළිය'}\n",
      "{'film_name_si': 'ටක් ටික ටුක්', 'role_name_si': 'නිළිය'}\n",
      "{'film_name_si': 'සිල්වා', 'role_name_si': 'නිළිය'}\n",
      "{'film_name_si': 'සිංහබාහු', 'role_name_si': 'නිළිය'}\n",
      "{'film_name_si': 'බඹ කෙටු හැටි', 'role_name_si': 'නිළිය'}\n",
      "{'film_name_si': 'සෙනසුම', 'role_name_si': 'නිළිය'}\n",
      "{'film_name_si': 'සතර දිගන්තය', 'role_name_si': 'ප්රධාන නිළිය'}\n",
      "{'film_name_si': 'හොඳම නළුවා', 'role_name_si': 'නිළිය'}\n",
      "{'film_name_si': 'ජීවන්ති', 'role_name_si': 'නිළිය'}\n",
      "{'film_name_si': 'තැන ගිරවී', 'role_name_si': 'නිළිය'}\n",
      "{'film_name_si': 'සක්විති සුවය', 'role_name_si': 'නිළිය'}\n",
      "{'film_name_si': 'සක්විති සුවය', 'role_name_si': 'නිළිය'}\n",
      "{'film_name_si': 'සුදු යය', 'role_name_si': 'නිළිය'}\n",
      "{'film_name_si': 'සිතාර', 'role_name_si': 'නිළිය'}\n",
      "{'film_name_si': 'සිතාර', 'role_name_si': 'නිළිය'}\n",
      "{'film_name_si': 'සඳමාලි', 'role_name_si': 'නිළිය'}\n",
      "{'film_name_si': 'හිතත් හොදි වෙදත් හොදි', 'role_name_si': 'නිළිය'}\n",
      "{'film_name_si': 'හිතත් හොදි වෙදත් හොදි', 'role_name_si': 'නිළිය'}\n",
      "{'film_name_si': 'අර සොය්ස', 'role_name_si': 'නිළිය'}\n",
      "{'film_name_si': 'අර සොය්ස', 'role_name_si': 'නිළිය'}\n",
      "translating filmography completed!\n",
      "completed translating : රුක්මනී දේවි\n"
     ]
    }
   ],
   "source": [
    "translate_artist_json(artist_json, 0, 1)"
   ]
  },
  {
   "cell_type": "code",
   "execution_count": 25,
   "metadata": {},
   "outputs": [
    {
     "name": "stdout",
     "output_type": "stream",
     "text": [
      "translating completed!!! \n"
     ]
    }
   ],
   "source": [
    "print(\"translating completed!!! \")"
   ]
  },
  {
   "cell_type": "code",
   "execution_count": null,
   "metadata": {},
   "outputs": [],
   "source": [
    "translate_artist_json(artist_json, 1, 50)"
   ]
  },
  {
   "cell_type": "code",
   "execution_count": null,
   "metadata": {},
   "outputs": [],
   "source": [
    "print(\"translating completed!!! \")"
   ]
  },
  {
   "cell_type": "code",
   "execution_count": null,
   "metadata": {},
   "outputs": [],
   "source": [
    "translate_artist_json(artist_json, 50, 60)"
   ]
  },
  {
   "cell_type": "code",
   "execution_count": null,
   "metadata": {},
   "outputs": [],
   "source": [
    "print(\"translating completed!!! \")"
   ]
  },
  {
   "cell_type": "code",
   "execution_count": null,
   "metadata": {},
   "outputs": [],
   "source": [
    "translate_artist_json(artist_json, 61, 70)"
   ]
  },
  {
   "cell_type": "code",
   "execution_count": null,
   "metadata": {},
   "outputs": [],
   "source": [
    "print(\"translating completed!!! \")"
   ]
  },
  {
   "cell_type": "code",
   "execution_count": null,
   "metadata": {},
   "outputs": [],
   "source": [
    "translate_artist_json(artist_json, 70, 100)"
   ]
  },
  {
   "cell_type": "code",
   "execution_count": null,
   "metadata": {},
   "outputs": [],
   "source": [
    "print(\"translating completed!!! \")"
   ]
  },
  {
   "cell_type": "code",
   "execution_count": null,
   "metadata": {},
   "outputs": [],
   "source": [
    "translate_artist_json(artist_json, 100, 150)"
   ]
  },
  {
   "cell_type": "code",
   "execution_count": null,
   "metadata": {},
   "outputs": [],
   "source": [
    "print(\"translating completed!!! \")"
   ]
  },
  {
   "cell_type": "code",
   "execution_count": null,
   "metadata": {},
   "outputs": [],
   "source": [
    "translate_artist_json(artist_json, 150, 250)"
   ]
  },
  {
   "cell_type": "code",
   "execution_count": null,
   "metadata": {},
   "outputs": [],
   "source": [
    "print(\"translating completed!!! \")"
   ]
  },
  {
   "cell_type": "code",
   "execution_count": null,
   "metadata": {},
   "outputs": [],
   "source": [
    "translate_artist_json(artist_json, 250, 350)"
   ]
  },
  {
   "cell_type": "code",
   "execution_count": null,
   "metadata": {},
   "outputs": [],
   "source": [
    "print(\"translating completed!!! \")"
   ]
  },
  {
   "cell_type": "code",
   "execution_count": null,
   "metadata": {},
   "outputs": [],
   "source": [
    "translate_artist_json(artist_json, 350, 366)"
   ]
  },
  {
   "cell_type": "code",
   "execution_count": null,
   "metadata": {},
   "outputs": [],
   "source": [
    "print(\"translating completed!!! \")"
   ]
  },
  {
   "cell_type": "code",
   "execution_count": null,
   "metadata": {},
   "outputs": [],
   "source": []
  },
  {
   "cell_type": "code",
   "execution_count": null,
   "metadata": {},
   "outputs": [],
   "source": []
  }
 ],
 "metadata": {
  "kernelspec": {
   "display_name": "Python 3",
   "language": "python",
   "name": "python3"
  },
  "language_info": {
   "codemirror_mode": {
    "name": "ipython",
    "version": 3
   },
   "file_extension": ".py",
   "mimetype": "text/x-python",
   "name": "python",
   "nbconvert_exporter": "python",
   "pygments_lexer": "ipython3",
   "version": "3.8.3"
  }
 },
 "nbformat": 4,
 "nbformat_minor": 4
}
