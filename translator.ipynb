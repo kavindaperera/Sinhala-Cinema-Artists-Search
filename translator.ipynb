{
 "cells": [
  {
   "cell_type": "code",
   "execution_count": 137,
   "metadata": {},
   "outputs": [],
   "source": [
    "from googletrans import Translator\n",
    "from google.transliteration import transliterate_word\n",
    "import json\n",
    "import re\n",
    "import os, time"
   ]
  },
  {
   "cell_type": "code",
   "execution_count": 138,
   "metadata": {},
   "outputs": [],
   "source": [
    "translator = Translator()"
   ]
  },
  {
   "cell_type": "code",
   "execution_count": 139,
   "metadata": {},
   "outputs": [],
   "source": [
    "content = open(\"artists-corpus/artists_data.json\", 'r').read()"
   ]
  },
  {
   "cell_type": "code",
   "execution_count": 140,
   "metadata": {},
   "outputs": [],
   "source": [
    "artist_json = json.loads(content)"
   ]
  },
  {
   "cell_type": "code",
   "execution_count": 142,
   "metadata": {},
   "outputs": [
    {
     "data": {
      "text/plain": [
       "93"
      ]
     },
     "execution_count": 142,
     "metadata": {},
     "output_type": "execute_result"
    }
   ],
   "source": [
    "len(artist_json)"
   ]
  },
  {
   "cell_type": "code",
   "execution_count": 132,
   "metadata": {},
   "outputs": [],
   "source": [
    "def translate(text):\n",
    "    if text:\n",
    "        ar = translator.translate(text, dest='si')\n",
    "        return ar.text\n",
    "    else:\n",
    "        return \"\""
   ]
  },
  {
   "cell_type": "code",
   "execution_count": 133,
   "metadata": {},
   "outputs": [],
   "source": [
    "def transliterate(text):\n",
    "    ar = transliterate_word(text, lang_code='si')\n",
    "    return ar[0]"
   ]
  },
  {
   "cell_type": "code",
   "execution_count": 134,
   "metadata": {},
   "outputs": [],
   "source": [
    "def translate_filmography(filmography):\n",
    "    response = []\n",
    "    for film in filmography:\n",
    "        film_si = {}\n",
    "        film_si['film_name_si'] =  transliterate(film['film_name_en']) \n",
    "        film_si['role_name_si'] =  translate(film['role_name_en'])\n",
    "        \n",
    "        response.append(film_si)\n",
    "\n",
    "        \n",
    "    print (\"translate_filmography : completed\")\n",
    "    return response"
   ]
  },
  {
   "cell_type": "code",
   "execution_count": 135,
   "metadata": {},
   "outputs": [
    {
     "name": "stdout",
     "output_type": "stream",
     "text": [
      "start : Daisy Rasammah Daniels\n",
      "translate_filmography : completed\n",
      "done : Daisy Rasammah Daniels\n",
      "start : Don Ruter Nanayakkara\n",
      "translate_filmography : completed\n",
      "done : Don Ruter Nanayakkara\n",
      "start : Bernard Aloysius Wanniarachchi Jayamanne\n",
      "translate_filmography : completed\n",
      "done : Bernard Aloysius Wanniarachchi Jayamanne\n",
      "start : Wanniaarachchige Don David Victor Jayamanne\n",
      "translate_filmography : completed\n",
      "done : Wanniaarachchige Don David Victor Jayamanne\n",
      "start : Clarice De Silva\n",
      "translate_filmography : completed\n",
      "done : Clarice De Silva\n",
      "start : Jayasuriya Arachchige Dona Mary Yvonne Perera\n",
      "translate_filmography : completed\n",
      "done : Jayasuriya Arachchige Dona Mary Yvonne Perera\n",
      "completed\n"
     ]
    }
   ],
   "source": [
    "for idx in range(0,len(artist_json)):\n",
    "    artist = artist_json[idx]\n",
    "    \n",
    "    print(\"start : \" + artist['real_name_en'] )\n",
    "    \n",
    "    real_name_si = transliterate(artist['real_name_en'])\n",
    "    birth_si = translate(artist['birth_en'])\n",
    "    death_si = translate(artist['death_en'])\n",
    "    filmography_si = translate_filmography(artist['filmography_en'])\n",
    "    \n",
    "    artist_json[idx]['real_name_si'] = real_name_si\n",
    "    artist_json[idx]['birth_si'] = birth_si\n",
    "    artist_json[idx]['death_si'] = death_si\n",
    "    artist_json[idx]['filmography_si'] = [filmography_si]\n",
    "    \n",
    "    print(\"done : \" + artist['real_name_en'] )\n",
    "\n",
    "print(\"completed\")    "
   ]
  },
  {
   "cell_type": "code",
   "execution_count": 136,
   "metadata": {},
   "outputs": [],
   "source": [
    "with open ('artists-corpus/clean_artists_data.json','w+') as f:\n",
    "            f.write(json.dumps(artist_json))  "
   ]
  },
  {
   "cell_type": "code",
   "execution_count": null,
   "metadata": {},
   "outputs": [],
   "source": []
  },
  {
   "cell_type": "code",
   "execution_count": null,
   "metadata": {},
   "outputs": [],
   "source": []
  },
  {
   "cell_type": "code",
   "execution_count": null,
   "metadata": {},
   "outputs": [],
   "source": []
  },
  {
   "cell_type": "code",
   "execution_count": null,
   "metadata": {},
   "outputs": [],
   "source": []
  },
  {
   "cell_type": "code",
   "execution_count": null,
   "metadata": {},
   "outputs": [],
   "source": []
  },
  {
   "cell_type": "code",
   "execution_count": null,
   "metadata": {},
   "outputs": [],
   "source": []
  },
  {
   "cell_type": "code",
   "execution_count": null,
   "metadata": {},
   "outputs": [],
   "source": []
  },
  {
   "cell_type": "code",
   "execution_count": null,
   "metadata": {},
   "outputs": [],
   "source": []
  },
  {
   "cell_type": "code",
   "execution_count": null,
   "metadata": {},
   "outputs": [],
   "source": []
  },
  {
   "cell_type": "code",
   "execution_count": null,
   "metadata": {},
   "outputs": [],
   "source": []
  }
 ],
 "metadata": {
  "kernelspec": {
   "display_name": "Python 3",
   "language": "python",
   "name": "python3"
  },
  "language_info": {
   "codemirror_mode": {
    "name": "ipython",
    "version": 3
   },
   "file_extension": ".py",
   "mimetype": "text/x-python",
   "name": "python",
   "nbconvert_exporter": "python",
   "pygments_lexer": "ipython3",
   "version": "3.8.3"
  }
 },
 "nbformat": 4,
 "nbformat_minor": 4
}
