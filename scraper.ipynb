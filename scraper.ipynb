{
 "cells": [
  {
   "cell_type": "code",
   "execution_count": 181,
   "metadata": {},
   "outputs": [],
   "source": [
    "from urllib.request import urlopen as uReq\n",
    "from bs4 import BeautifulSoup as soup\n",
    "import os\n",
    "import json,re"
   ]
  },
  {
   "cell_type": "code",
   "execution_count": 2,
   "metadata": {},
   "outputs": [],
   "source": [
    "my_url = 'https://www.films.lk/artists.php?page=1'\n",
    "filmlk_url = 'https://www.films.lk/'"
   ]
  },
  {
   "cell_type": "code",
   "execution_count": 3,
   "metadata": {},
   "outputs": [],
   "source": [
    "uClient = uReq(my_url)"
   ]
  },
  {
   "cell_type": "code",
   "execution_count": 4,
   "metadata": {},
   "outputs": [],
   "source": [
    "page_html = uClient.read()"
   ]
  },
  {
   "cell_type": "code",
   "execution_count": 5,
   "metadata": {},
   "outputs": [],
   "source": [
    "# page_html"
   ]
  },
  {
   "cell_type": "code",
   "execution_count": 6,
   "metadata": {},
   "outputs": [],
   "source": [
    "uClient.close()"
   ]
  },
  {
   "cell_type": "code",
   "execution_count": 7,
   "metadata": {},
   "outputs": [],
   "source": [
    "page_soup = soup(page_html, 'html.parser') # html parsing"
   ]
  },
  {
   "cell_type": "code",
   "execution_count": 8,
   "metadata": {},
   "outputs": [],
   "source": [
    "artists = page_soup.findAll(\"div\",{\"class\":\"column2\"})"
   ]
  },
  {
   "cell_type": "code",
   "execution_count": 9,
   "metadata": {},
   "outputs": [
    {
     "data": {
      "text/plain": [
       "20"
      ]
     },
     "execution_count": 9,
     "metadata": {},
     "output_type": "execute_result"
    }
   ],
   "source": [
    "len(artists)"
   ]
  },
  {
   "cell_type": "code",
   "execution_count": 10,
   "metadata": {},
   "outputs": [],
   "source": [
    "artist = artists[0]"
   ]
  },
  {
   "cell_type": "code",
   "execution_count": 11,
   "metadata": {},
   "outputs": [
    {
     "data": {
      "text/plain": [
       "[<span class=\"eventTitle\">Rukmani Devi</span>]"
      ]
     },
     "execution_count": 11,
     "metadata": {},
     "output_type": "execute_result"
    }
   ],
   "source": [
    "artist.findAll(\"span\",{\"class\":\"eventTitle\"})"
   ]
  },
  {
   "cell_type": "code",
   "execution_count": 12,
   "metadata": {},
   "outputs": [
    {
     "data": {
      "text/plain": [
       "'sinhala-cinema-artist-rukmani-devi-21.html'"
      ]
     },
     "execution_count": 12,
     "metadata": {},
     "output_type": "execute_result"
    }
   ],
   "source": [
    "artist.a[\"href\"]"
   ]
  },
  {
   "cell_type": "code",
   "execution_count": 13,
   "metadata": {},
   "outputs": [],
   "source": [
    "filename = \"artists-corpus/artists_urls.csv\"\n",
    "f = open(filename, \"w\")"
   ]
  },
  {
   "cell_type": "code",
   "execution_count": 14,
   "metadata": {},
   "outputs": [
    {
     "name": "stdout",
     "output_type": "stream",
     "text": [
      "Name: Rukmani Devi \n",
      " Url:  sinhala-cinema-artist-rukmani-devi-21.html\n",
      "Name: D.R. Nanayakkara \n",
      " Url:  sinhala-cinema-artist-dr-nanayakkara-983.html\n",
      "Name: B.A.W. Jayamanne \n",
      " Url:  sinhala-cinema-artist-baw-jayamanne-1315.html\n",
      "Name: Eddy Jayamanna \n",
      " Url:  sinhala-cinema-artist-eddy-jayamanna-2581.html\n",
      "Name: Clarice De Silva \n",
      " Url:  sinhala-cinema-artist-clarice-de-silva-406.html\n",
      "Name: Sandya Kumari \n",
      " Url:  sinhala-cinema-artist-sandya-kumari-874.html\n",
      "Name: Prem Jayanth \n",
      " Url:  sinhala-cinema-artist-prem-jayanth-965.html\n",
      "Name: Ravindra Rupasena \n",
      " Url:  sinhala-cinema-artist-ravindra-rupasena-1754.html\n",
      "Name: Gamini Fonseka \n",
      " Url:  sinhala-cinema-artist-gamini-fonseka-9.html\n",
      "Name: Vijaya Kumaranatunga \n",
      " Url:  sinhala-cinema-artist-vijaya-kumaranatunga-11.html\n",
      "Name: Joe Abeywickrama \n",
      " Url:  sinhala-cinema-artist-joe-abeywickrama-12.html\n",
      "Name: Dr. Lester James Peries \n",
      " Url:  sinhala-cinema-artist-dr-lester-james-peries-632.html\n",
      "Name: Malani Fonseka \n",
      " Url:  sinhala-cinema-artist-malani-fonseka-8.html\n",
      "Name: Geetha Kumarasinghe \n",
      " Url:  sinhala-cinema-artist-geetha-kumarasinghe-10.html\n",
      "Name: Swarna Mallawarachchi \n",
      " Url:  sinhala-cinema-artist-swarna-mallawarachchi-13.html\n",
      "Name: Anoja Weerasinghe \n",
      " Url:  sinhala-cinema-artist-anoja-weerasinghe-18.html\n",
      "Name: Freddie Silva \n",
      " Url:  sinhala-cinema-artist-freddie-silva-34.html\n",
      "Name: Sanath Gunathilaka \n",
      " Url:  sinhala-cinema-artist-sanath-gunathilaka-299.html\n",
      "Name: Sabeetha Perera \n",
      " Url:  sinhala-cinema-artist-sabeetha-perera-15.html\n",
      "Name: Jeewan Kumaranatunga \n",
      " Url:  sinhala-cinema-artist-jeewan-kumaranatunga-163.html\n"
     ]
    }
   ],
   "source": [
    "for artist in artists:\n",
    "    name = artist.span.text\n",
    "    url = artist.a[\"href\"]\n",
    "    print (\"Name:\", name, \"\\n Url: \", url)\n",
    "    f.write(url + \"\\n\")"
   ]
  },
  {
   "cell_type": "code",
   "execution_count": 15,
   "metadata": {},
   "outputs": [],
   "source": [
    "f.close()"
   ]
  },
  {
   "cell_type": "code",
   "execution_count": null,
   "metadata": {},
   "outputs": [],
   "source": []
  },
  {
   "cell_type": "code",
   "execution_count": 16,
   "metadata": {},
   "outputs": [],
   "source": [
    "with open(\"artists-corpus/artists_urls.csv\", \"r\") as f:\n",
    "    artists_urls = f.readlines()"
   ]
  },
  {
   "cell_type": "code",
   "execution_count": 17,
   "metadata": {},
   "outputs": [
    {
     "data": {
      "text/plain": [
       "['sinhala-cinema-artist-rukmani-devi-21.html\\n',\n",
       " 'sinhala-cinema-artist-dr-nanayakkara-983.html\\n',\n",
       " 'sinhala-cinema-artist-baw-jayamanne-1315.html\\n',\n",
       " 'sinhala-cinema-artist-eddy-jayamanna-2581.html\\n',\n",
       " 'sinhala-cinema-artist-clarice-de-silva-406.html\\n',\n",
       " 'sinhala-cinema-artist-sandya-kumari-874.html\\n',\n",
       " 'sinhala-cinema-artist-prem-jayanth-965.html\\n',\n",
       " 'sinhala-cinema-artist-ravindra-rupasena-1754.html\\n',\n",
       " 'sinhala-cinema-artist-gamini-fonseka-9.html\\n',\n",
       " 'sinhala-cinema-artist-vijaya-kumaranatunga-11.html\\n',\n",
       " 'sinhala-cinema-artist-joe-abeywickrama-12.html\\n',\n",
       " 'sinhala-cinema-artist-dr-lester-james-peries-632.html\\n',\n",
       " 'sinhala-cinema-artist-malani-fonseka-8.html\\n',\n",
       " 'sinhala-cinema-artist-geetha-kumarasinghe-10.html\\n',\n",
       " 'sinhala-cinema-artist-swarna-mallawarachchi-13.html\\n',\n",
       " 'sinhala-cinema-artist-anoja-weerasinghe-18.html\\n',\n",
       " 'sinhala-cinema-artist-freddie-silva-34.html\\n',\n",
       " 'sinhala-cinema-artist-sanath-gunathilaka-299.html\\n',\n",
       " 'sinhala-cinema-artist-sabeetha-perera-15.html\\n',\n",
       " 'sinhala-cinema-artist-jeewan-kumaranatunga-163.html\\n']"
      ]
     },
     "execution_count": 17,
     "metadata": {},
     "output_type": "execute_result"
    }
   ],
   "source": [
    "artists_urls"
   ]
  },
  {
   "cell_type": "code",
   "execution_count": null,
   "metadata": {},
   "outputs": [],
   "source": []
  },
  {
   "cell_type": "code",
   "execution_count": 139,
   "metadata": {},
   "outputs": [],
   "source": [
    "uClient = uReq(filmlk_url + artists_urls[1])\n",
    "page_html = uClient.read()\n",
    "uClient.close()"
   ]
  },
  {
   "cell_type": "code",
   "execution_count": 140,
   "metadata": {},
   "outputs": [],
   "source": [
    "page_soup = soup(page_html, 'html.parser')"
   ]
  },
  {
   "cell_type": "code",
   "execution_count": 141,
   "metadata": {},
   "outputs": [],
   "source": [
    "artist = page_soup.findAll(\"div\",{\"class\":\"column2\"})"
   ]
  },
  {
   "cell_type": "code",
   "execution_count": 142,
   "metadata": {},
   "outputs": [],
   "source": [
    "artist_summary = artist[1].findAll(\"li\",{\"class\":None})"
   ]
  },
  {
   "cell_type": "code",
   "execution_count": 143,
   "metadata": {},
   "outputs": [
    {
     "data": {
      "text/plain": [
       "[<li><b>Known As :</b> D.R. Nanayakkara</li>,\n",
       " <li><b>Sinhala :</b> ඩි. ආර්. නානායක්කාර</li>,\n",
       " <li><b>Real Name :</b> Don Ruter Nanayakkara</li>,\n",
       " <li><b>Birthday :</b> 1915 March 15</li>,\n",
       " <li><b>Died :</b> 1989 January 04</li>]"
      ]
     },
     "execution_count": 143,
     "metadata": {},
     "output_type": "execute_result"
    }
   ],
   "source": [
    "artist_summary"
   ]
  },
  {
   "cell_type": "code",
   "execution_count": 144,
   "metadata": {},
   "outputs": [
    {
     "name": "stdout",
     "output_type": "stream",
     "text": [
      "{'known_as': 'D.R. Nanayakkara', 'name_si': 'ඩි. ආර්. නානායක්කාර', 'name_en': 'Don Ruter Nanayakkara', 'birth': '1915 March 15', 'death': '1989 January 04'}\n"
     ]
    }
   ],
   "source": [
    "artist_meta_data = {}\n",
    "\n",
    "for field in artist_summary:\n",
    "    if field.b != None:\n",
    "        \n",
    "        if \"Known As\" in field.b.get_text():\n",
    "            known_as = field.text.split(\":\")[1].strip()\n",
    "            artist_meta_data[\"known_as\"] = known_as\n",
    "            \n",
    "        if \"Sinhala\" in field.b.get_text(): \n",
    "            name_si = field.text.split(\":\")[1].strip()\n",
    "            artist_meta_data[\"name_si\"] = name_si\n",
    "            \n",
    "        if \"Real Name\" in field.b.get_text(): \n",
    "            name_en = field.text.split(\":\")[1].strip()\n",
    "            artist_meta_data[\"name_en\"] = name_en\n",
    "            \n",
    "        if \"Birthday\" in field.b.get_text(): \n",
    "            birth = field.text.split(\":\")[1].strip() \n",
    "            artist_meta_data[\"birth\"] = birth\n",
    "        \n",
    "        if \"Died\" in field.b.get_text(): \n",
    "            death = field.text.split(\":\")[1].strip()\n",
    "            artist_meta_data[\"death\"] = death\n",
    "        \n",
    "        if \"Address\" in field.b.get_text(): \n",
    "            address = field.text.split(\":\")[1].strip()\n",
    "            artist_meta_data[\"address\"] = address\n",
    "\n",
    "print (artist_meta_data)            \n",
    " "
   ]
  },
  {
   "cell_type": "code",
   "execution_count": null,
   "metadata": {},
   "outputs": [],
   "source": []
  },
  {
   "cell_type": "code",
   "execution_count": 145,
   "metadata": {},
   "outputs": [],
   "source": [
    "artist_info = page_soup.findAll(\"div\",{\"class\":\"column\"})"
   ]
  },
  {
   "cell_type": "code",
   "execution_count": 179,
   "metadata": {},
   "outputs": [
    {
     "name": "stdout",
     "output_type": "stream",
     "text": [
      "{'known_as': 'D.R. Nanayakkara', 'name_si': 'ඩි. ආර්. නානායක්කාර', 'name_en': 'Don Ruter Nanayakkara', 'birth': '1915 March 15', 'death': '1989 January 04', 'national_awards': [{'award_title': 'Best Actor', 'award_name': '1st Sarasaviya Awards - 1964'}, {'award_title': 'Best Co Actor', 'award_name': '3rd United Lanka Fans Society Award Ceremony 1968'}, {'award_title': 'Best Actor', 'award_name': '6th Sarasaviya Awards - 1969'}, {'award_title': '\" Deepashika\" Apecial Award', 'award_name': '4th Deepashika Award Ceremony 1974'}]}\n"
     ]
    }
   ],
   "source": [
    "\n",
    "artist_meta_data[\"national_awards\"] = []\n",
    "\n",
    "for info in artist_info:\n",
    "    field = info.find(\"span\",{\"class\":\"eventTitle\"})   \n",
    "    if (field.get_text() == 'NATIONAL AWARDS'):   \n",
    "        na_td_rows = info.table.findAll(\"td\",{\"class\":\"row1\"})\n",
    "        for row in na_td_rows:\n",
    "            if (row.span != None and row.a != None):\n",
    "                national_award = {}\n",
    "                award_title = row.span.text\n",
    "                award_name = row.a.text\n",
    "                \n",
    "                national_award[\"award_title\"] = award_title\n",
    "                national_award[\"award_name\"] = award_name\n",
    "                \n",
    "                \n",
    "                \n",
    "                artist_meta_data[\"national_awards\"].append(national_award) \n",
    "                \n",
    "                \n",
    "print (artist_meta_data)               "
   ]
  },
  {
   "cell_type": "code",
   "execution_count": null,
   "metadata": {},
   "outputs": [],
   "source": []
  },
  {
   "cell_type": "code",
   "execution_count": 182,
   "metadata": {},
   "outputs": [],
   "source": [
    "with open ('artists-corpus/artists_data.json','w+') as f:\n",
    "    f.write(json.dumps(artist_meta_data))"
   ]
  },
  {
   "cell_type": "code",
   "execution_count": null,
   "metadata": {},
   "outputs": [],
   "source": []
  }
 ],
 "metadata": {
  "kernelspec": {
   "display_name": "Python 3",
   "language": "python",
   "name": "python3"
  },
  "language_info": {
   "codemirror_mode": {
    "name": "ipython",
    "version": 3
   },
   "file_extension": ".py",
   "mimetype": "text/x-python",
   "name": "python",
   "nbconvert_exporter": "python",
   "pygments_lexer": "ipython3",
   "version": "3.8.3"
  }
 },
 "nbformat": 4,
 "nbformat_minor": 4
}
