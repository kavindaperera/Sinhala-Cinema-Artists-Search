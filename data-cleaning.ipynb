{
 "cells": [
  {
   "cell_type": "code",
   "execution_count": 10,
   "metadata": {},
   "outputs": [],
   "source": [
    "import json\n",
    "import pandas as pd\n",
    "import pprint"
   ]
  },
  {
   "cell_type": "code",
   "execution_count": 2,
   "metadata": {},
   "outputs": [],
   "source": [
    "filename = 'artists-corpus/sinhala_artists_data.json'"
   ]
  },
  {
   "cell_type": "code",
   "execution_count": 59,
   "metadata": {},
   "outputs": [],
   "source": [
    "with open (filename,'r') as f:\n",
    "    data = json.load(f)"
   ]
  },
  {
   "cell_type": "code",
   "execution_count": 79,
   "metadata": {},
   "outputs": [],
   "source": [
    "awards_ceremony_names = []\n",
    "\n",
    "for artist in data:\n",
    "    \n",
    "    if \"අප්රේල්\" in artist[\"birth_si\"] or artist[\"death_si\"]:\n",
    "        \n",
    "        artist[\"birth_si\"] = \"අප්‍රේල්\"\n",
    "        artist[\"death_si\"] = \"අප්‍රේල්\"\n",
    "    \n",
    "    if(artist[\"real_name_en\"] == artist[\"known_as_en\"]):\n",
    "        \n",
    "        artist[\"real_name_si\"] = artist[\"known_as_si\"]\n",
    "        \n",
    "    for award in artist[\"national_awards_si\"]:\n",
    "        \n",
    "        if \"සරුවීරියා හෝඩ්ස් බලන්න - 1966\" in award[\"award_ceremony_name_si\"]:\n",
    "\n",
    "            award[\"award_ceremony_name_si\"] =  \"3 වන සරසවිය සම්මාන - 1966\"\n",
    "            \n",
    "        if \"කූරස්වියාව\" or \"සරස්වියා\" or \"දීපනම්ිකා\" in award[\"award_ceremony_name_si\"]:\n",
    "\n",
    "            award[\"award_ceremony_name_si\"] = award[\"award_ceremony_name_si\"].replace(\"කූරස්වියාව\", \"සරසවිය\")\n",
    "            award[\"award_ceremony_name_si\"] = award[\"award_ceremony_name_si\"].replace(\"සරස්වියා\", \"සරසවිය\") \n",
    "            award[\"award_ceremony_name_si\"] = award[\"award_ceremony_name_si\"].replace(\"දීපනම්ිකා\", \"දීපශිකා\")\n",
    "       \n",
    "        if \"ප්රියතම\" or \"සමුපකාර\" in award[\"award_name_si\"]:\n",
    "            \n",
    "            award[\"award_name_si\"] = award[\"award_name_si\"].replace(\"ප්රියතම\", \"ප්‍රියතම\")\n",
    "            award[\"award_name_si\"] = award[\"award_name_si\"].replace(\"සමුපකාර\", \"සහාය නළුවා\")\n",
    "\n",
    "    for film in artist[\"filmography_si\"]:            \n",
    "               \n",
    "        if \"ප්රධාන\" in film[\"role_name_si\"]: \n",
    "            \n",
    "            film[\"role_name_si\"] = film[\"role_name_si\"].replace(\"ප්රධාන\", \"ප්‍රධාන\")\n",
    "            \n",
    "     "
   ]
  },
  {
   "cell_type": "code",
   "execution_count": null,
   "metadata": {},
   "outputs": [],
   "source": []
  },
  {
   "cell_type": "code",
   "execution_count": null,
   "metadata": {},
   "outputs": [],
   "source": []
  },
  {
   "cell_type": "code",
   "execution_count": null,
   "metadata": {},
   "outputs": [],
   "source": []
  },
  {
   "cell_type": "code",
   "execution_count": null,
   "metadata": {},
   "outputs": [],
   "source": []
  },
  {
   "cell_type": "code",
   "execution_count": 82,
   "metadata": {},
   "outputs": [],
   "source": [
    "write_filename = 'artists-corpus/clean_sinhala_artists_data.json'"
   ]
  },
  {
   "cell_type": "code",
   "execution_count": 83,
   "metadata": {},
   "outputs": [],
   "source": [
    "with open (write_filename,'w') as f:\n",
    "    json.dump(data, f, indent=4)"
   ]
  },
  {
   "cell_type": "code",
   "execution_count": null,
   "metadata": {},
   "outputs": [],
   "source": []
  },
  {
   "cell_type": "code",
   "execution_count": null,
   "metadata": {},
   "outputs": [],
   "source": []
  },
  {
   "cell_type": "code",
   "execution_count": null,
   "metadata": {},
   "outputs": [],
   "source": []
  }
 ],
 "metadata": {
  "kernelspec": {
   "display_name": "Python 3",
   "language": "python",
   "name": "python3"
  },
  "language_info": {
   "codemirror_mode": {
    "name": "ipython",
    "version": 3
   },
   "file_extension": ".py",
   "mimetype": "text/x-python",
   "name": "python",
   "nbconvert_exporter": "python",
   "pygments_lexer": "ipython3",
   "version": "3.8.3"
  }
 },
 "nbformat": 4,
 "nbformat_minor": 4
}
