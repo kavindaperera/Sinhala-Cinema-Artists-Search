{
 "cells": [
  {
   "cell_type": "code",
   "execution_count": 1,
   "metadata": {},
   "outputs": [],
   "source": [
    "import json\n",
    "import pandas as pd\n",
    "import pprint"
   ]
  },
  {
   "cell_type": "code",
   "execution_count": 2,
   "metadata": {},
   "outputs": [],
   "source": [
    "filename = 'artists-corpus/sinhala_artists_data.json'"
   ]
  },
  {
   "cell_type": "code",
   "execution_count": 3,
   "metadata": {},
   "outputs": [],
   "source": [
    "with open (filename,'r') as f:\n",
    "    data = json.load(f)"
   ]
  },
  {
   "cell_type": "code",
   "execution_count": 5,
   "metadata": {},
   "outputs": [],
   "source": [
    "# pprint.pprint(data)"
   ]
  },
  {
   "cell_type": "code",
   "execution_count": 4,
   "metadata": {},
   "outputs": [],
   "source": [
    "awards_ceremony_names = []\n",
    "\n",
    "for artist in data:\n",
    "    \n",
    "    if \"අප්රේල්\" in artist[\"birth_si\"] or artist[\"death_si\"]:\n",
    "        \n",
    "        artist[\"birth_si\"] = artist[\"birth_si\"].replace(\"අප්රේල්\", \"අප්‍රේල්\")\n",
    "        artist[\"death_si\"] = artist[\"death_si\"].replace(\"අප්රේල්\", \"අප්‍රේල්\")\n",
    "    \n",
    "    if(artist[\"real_name_en\"] == artist[\"known_as_en\"]):  \n",
    "        artist[\"real_name_si\"] = artist[\"known_as_si\"]\n",
    "    \n",
    "\n",
    "        \n",
    "    artist[\"real_name_si\"] = artist[\"real_name_si\"].replace(\"කුමරනටුන්ග\", 'කුමාරතුංග')\n",
    "    \n",
    "    artist[\"biography_si\"] = artist[\"biography_si\"].replace(\"චිත්රපට\", \"චිත්‍රපට\")\n",
    "        \n",
    "        \n",
    "    for award in artist[\"national_awards_si\"]:\n",
    "        \n",
    "        if \"සරුවීරියා හෝඩ්ස් බලන්න - 1966\" in award[\"award_ceremony_name_si\"]:\n",
    "            award[\"award_ceremony_name_si\"] =  \"3 වන සරසවිය සම්මාන - 1966\"\n",
    "            \n",
    "        if \"ඩයිනමින්ගේ අදියර 1956 සිට සාදන ලදී\" in award[\"award_ceremony_name_si\"]:\n",
    "            award[\"award_ceremony_name_si\"] =  \"දිනමිණ රඟමඪල 1956\"    \n",
    "            \n",
    "        award[\"award_ceremony_name_si\"] = award[\"award_ceremony_name_si\"].replace(\"කූරස්වියාව\", \"සරසවිය\")\n",
    "        award[\"award_ceremony_name_si\"] = award[\"award_ceremony_name_si\"].replace(\"සරස්වියා\", \"සරසවිය\") \n",
    "        award[\"award_ceremony_name_si\"] = award[\"award_ceremony_name_si\"].replace(\"දීපනම්ිකා\", \"දීපශිකා\")\n",
    "        award[\"award_ceremony_name_si\"] = award[\"award_ceremony_name_si\"].replace(\"චිත්රපට\", \"චිත්‍රපට\")\n",
    "            \n",
    "        award[\"award_name_si\"] = award[\"award_name_si\"].replace(\"ප්රියතම\", \"ප්‍රියතම\")\n",
    "        award[\"award_name_si\"] = award[\"award_name_si\"].replace(\"සමුපකාර\", \"සහාය නළුවා\")\n",
    "        award[\"award_name_si\"] = award[\"award_name_si\"].replace(\"චිත්රපට\", \"චිත්‍රපට\")\n",
    "\n",
    "    for film in artist[\"filmography_si\"]:            \n",
    "            \n",
    "        film[\"role_name_si\"] = film[\"role_name_si\"].replace(\"ප්රධාන\", \"ප්‍රධාන\")\n",
    "        film[\"role_name_si\"] = film[\"role_name_si\"].replace(\"චිත්රපට\", \"චිත්‍රපට\")\n",
    "            \n",
    "     "
   ]
  },
  {
   "cell_type": "code",
   "execution_count": null,
   "metadata": {},
   "outputs": [],
   "source": []
  },
  {
   "cell_type": "code",
   "execution_count": null,
   "metadata": {},
   "outputs": [],
   "source": []
  },
  {
   "cell_type": "code",
   "execution_count": 6,
   "metadata": {},
   "outputs": [],
   "source": [
    "write_filename = 'artists-corpus/clean_sinhala_artists_data.json'"
   ]
  },
  {
   "cell_type": "code",
   "execution_count": 7,
   "metadata": {},
   "outputs": [],
   "source": [
    "with open (write_filename,'w') as fx:\n",
    "            fx.write(json.dumps([]))  "
   ]
  },
  {
   "cell_type": "code",
   "execution_count": 8,
   "metadata": {},
   "outputs": [],
   "source": [
    "with open (write_filename,'w') as fx:\n",
    "    json.dump(data, fx, indent=4)"
   ]
  },
  {
   "cell_type": "code",
   "execution_count": null,
   "metadata": {},
   "outputs": [],
   "source": []
  },
  {
   "cell_type": "code",
   "execution_count": null,
   "metadata": {},
   "outputs": [],
   "source": []
  }
 ],
 "metadata": {
  "kernelspec": {
   "display_name": "Python 3",
   "language": "python",
   "name": "python3"
  },
  "language_info": {
   "codemirror_mode": {
    "name": "ipython",
    "version": 3
   },
   "file_extension": ".py",
   "mimetype": "text/x-python",
   "name": "python",
   "nbconvert_exporter": "python",
   "pygments_lexer": "ipython3",
   "version": "3.8.3"
  }
 },
 "nbformat": 4,
 "nbformat_minor": 4
}
