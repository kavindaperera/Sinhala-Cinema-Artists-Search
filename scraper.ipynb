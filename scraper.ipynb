{
 "cells": [
  {
   "cell_type": "code",
   "execution_count": 5,
   "metadata": {},
   "outputs": [],
   "source": [
    "import requests\n",
    "from bs4 import BeautifulSoup as soup\n",
    "import os, time\n",
    "import json,re\n",
    "from googletrans import Translator\n",
    "from google.transliteration import transliterate_word"
   ]
  },
  {
   "cell_type": "code",
   "execution_count": 6,
   "metadata": {},
   "outputs": [],
   "source": [
    "filmlk_url = 'https://www.films.lk/'"
   ]
  },
  {
   "cell_type": "code",
   "execution_count": 7,
   "metadata": {},
   "outputs": [],
   "source": [
    "filename = \"artists-corpus/artists_links.csv\"\n",
    "\n",
    "def scape_main_pages():\n",
    "    with open(filename,'a') as f:\n",
    "        for i in range(1,10):\n",
    "            main_url = 'https://www.films.lk/artists.php?page={}'.format(i)\n",
    "            print(\"scrapping : \" + main_url)\n",
    "            response = requests.get(\n",
    "                url = main_url,\n",
    "            )\n",
    "\n",
    "            page_soup = soup(response.content, 'html.parser')\n",
    "            artists = page_soup.findAll(\"div\",{\"class\":\"column2\"})\n",
    "\n",
    "\n",
    "            for artist in artists:\n",
    "                name = artist.span.text\n",
    "                url = artist.a[\"href\"]\n",
    "                f.write(url + \"\\n\")\n",
    "\n",
    "            time.sleep(10)"
   ]
  },
  {
   "cell_type": "code",
   "execution_count": 8,
   "metadata": {},
   "outputs": [
    {
     "name": "stdout",
     "output_type": "stream",
     "text": [
      "scrapping : https://www.films.lk/artists.php?page=1\n",
      "scrapping : https://www.films.lk/artists.php?page=2\n",
      "scrapping : https://www.films.lk/artists.php?page=3\n",
      "scrapping : https://www.films.lk/artists.php?page=4\n",
      "scrapping : https://www.films.lk/artists.php?page=5\n",
      "scrapping : https://www.films.lk/artists.php?page=6\n",
      "scrapping : https://www.films.lk/artists.php?page=7\n",
      "scrapping : https://www.films.lk/artists.php?page=8\n",
      "scrapping : https://www.films.lk/artists.php?page=9\n"
     ]
    }
   ],
   "source": [
    "scape_main_pages()"
   ]
  },
  {
   "cell_type": "code",
   "execution_count": 14,
   "metadata": {},
   "outputs": [],
   "source": [
    "def get_artist_list(): \n",
    "    with open(filename, \"r\") as f:\n",
    "        artists_urls = f.readlines()\n",
    "    \n",
    "    artist_list = []\n",
    "    \n",
    "    for i in range(2):\n",
    "        response = requests.get(\n",
    "            url = filmlk_url + artists_urls[i].rstrip('\\n'),\n",
    "        )\n",
    "  \n",
    "        artist_meta_data = get_artist_data(response.content)            \n",
    "                            \n",
    "        artist_list.append(artist_meta_data)\n",
    "        \n",
    "        time.sleep(1)\n",
    "        \n",
    "    return artist_list            "
   ]
  },
  {
   "cell_type": "code",
   "execution_count": null,
   "metadata": {},
   "outputs": [],
   "source": [
    "def get_artist_data(content):\n",
    "    \n",
    "    page_soup = soup(content, 'html.parser')\n",
    "    artist = page_soup.findAll(\"div\",{\"class\":\"column2\"})\n",
    "    artist_summary = artist[1].findAll(\"li\",{\"class\":None})\n",
    "        \n",
    "    artist_meta_data = {}\n",
    "\n",
    "    for field in artist_summary:\n",
    "        if field.b != None:\n",
    "\n",
    "            if \"Known As\" in field.b.get_text():\n",
    "                known_as_en = field.text.split(\":\")[1].strip()\n",
    "                print(\"scrapping : \" + known_as_en)\n",
    "                artist_meta_data[\"known_as_en\"] = known_as_en\n",
    "\n",
    "            if \"Sinhala\" in field.b.get_text(): \n",
    "                known_as_si = field.text.split(\":\")[1].strip()\n",
    "                artist_meta_data[\"known_as_si\"] = known_as_si\n",
    "\n",
    "            if \"Real Name\" in field.b.get_text(): \n",
    "                real_name = field.text.split(\":\")[1].strip()\n",
    "                artist_meta_data[\"real_name\"] = real_name\n",
    "\n",
    "            if \"Birthday\" in field.b.get_text(): \n",
    "                birth = field.text.split(\":\")[1].strip() \n",
    "                artist_meta_data[\"birth\"] = birth\n",
    "\n",
    "            if \"Died\" in field.b.get_text(): \n",
    "                death = field.text.split(\":\")[1].strip()\n",
    "                artist_meta_data[\"death\"] = death\n",
    "    \n",
    "    return artist_meta_data\n",
    "    "
   ]
  },
  {
   "cell_type": "code",
   "execution_count": null,
   "metadata": {},
   "outputs": [
    {
     "name": "stdout",
     "output_type": "stream",
     "text": [
      "scrapping : Rukmani Devi\n",
      "scrapping : D.R. Nanayakkara\n",
      "scrapping : B.A.W. Jayamanne\n"
     ]
    }
   ],
   "source": [
    "artist_list = get_artist_list()\n",
    "artist_list"
   ]
  },
  {
   "cell_type": "code",
   "execution_count": 16,
   "metadata": {},
   "outputs": [
    {
     "name": "stdout",
     "output_type": "stream",
     "text": [
      "scrapping : Rukmani Devi\n",
      "scrapping : D.R. Nanayakkara\n",
      "scrapping : B.A.W. Jayamanne\n",
      "scrapping : Eddy Jayamanna\n",
      "scrapping : Clarice De Silva\n",
      "scrapping : Sandya Kumari\n",
      "scrapping : Prem Jayanth\n",
      "scrapping : Ravindra Rupasena\n",
      "scrapping : Gamini Fonseka\n",
      "scrapping : Vijaya Kumaranatunga\n",
      "scrapping : Joe Abeywickrama\n",
      "scrapping : Dr. Lester James Peries\n",
      "scrapping : Malani Fonseka\n",
      "scrapping : Geetha Kumarasinghe\n",
      "scrapping : Swarna Mallawarachchi\n",
      "scrapping : Anoja Weerasinghe\n",
      "scrapping : Freddie Silva\n",
      "scrapping : Sanath Gunathilaka\n",
      "scrapping : Sabeetha Perera\n",
      "scrapping : Jeewan Kumaranatunga\n"
     ]
    }
   ],
   "source": [
    "artist_list = get_artist_list()\n",
    "\n",
    "with open ('artists-corpus/artists_data.json','w+') as f:\n",
    "            f.write(json.dumps(artist_list))  "
   ]
  },
  {
   "cell_type": "code",
   "execution_count": null,
   "metadata": {},
   "outputs": [],
   "source": []
  },
  {
   "cell_type": "code",
   "execution_count": null,
   "metadata": {},
   "outputs": [],
   "source": []
  },
  {
   "cell_type": "code",
   "execution_count": null,
   "metadata": {},
   "outputs": [],
   "source": []
  },
  {
   "cell_type": "code",
   "execution_count": null,
   "metadata": {},
   "outputs": [],
   "source": []
  },
  {
   "cell_type": "code",
   "execution_count": null,
   "metadata": {},
   "outputs": [],
   "source": [
    "\n"
   ]
  },
  {
   "cell_type": "code",
   "execution_count": null,
   "metadata": {},
   "outputs": [],
   "source": []
  },
  {
   "cell_type": "code",
   "execution_count": null,
   "metadata": {},
   "outputs": [],
   "source": []
  },
  {
   "cell_type": "code",
   "execution_count": null,
   "metadata": {},
   "outputs": [],
   "source": []
  },
  {
   "cell_type": "code",
   "execution_count": null,
   "metadata": {},
   "outputs": [],
   "source": [
    "      \n",
    " "
   ]
  },
  {
   "cell_type": "code",
   "execution_count": null,
   "metadata": {},
   "outputs": [],
   "source": []
  },
  {
   "cell_type": "code",
   "execution_count": null,
   "metadata": {},
   "outputs": [],
   "source": [
    "artist_info = page_soup.findAll(\"div\",{\"class\":\"column\"})"
   ]
  },
  {
   "cell_type": "code",
   "execution_count": null,
   "metadata": {},
   "outputs": [],
   "source": [
    "\n",
    "artist_meta_data[\"national_awards\"] = []\n",
    "\n",
    "for info in artist_info:\n",
    "    field = info.find(\"span\",{\"class\":\"eventTitle\"})   \n",
    "    if (field.get_text() == 'NATIONAL AWARDS'):   \n",
    "        na_td_rows = info.table.findAll(\"td\",{\"class\":\"row1\"})\n",
    "        for row in na_td_rows:\n",
    "            if (row.span != None and row.a != None):\n",
    "                national_award = {}\n",
    "                award_title = row.span.text\n",
    "                award_name = row.a.text\n",
    "                \n",
    "                national_award[\"award_title\"] = award_title\n",
    "                national_award[\"award_name\"] = award_name\n",
    "                \n",
    "                \n",
    "                \n",
    "                artist_meta_data[\"national_awards\"].append(national_award) \n",
    "                \n",
    "                \n",
    "print (artist_meta_data)               "
   ]
  },
  {
   "cell_type": "code",
   "execution_count": null,
   "metadata": {},
   "outputs": [],
   "source": []
  },
  {
   "cell_type": "code",
   "execution_count": null,
   "metadata": {},
   "outputs": [],
   "source": []
  },
  {
   "cell_type": "code",
   "execution_count": null,
   "metadata": {},
   "outputs": [],
   "source": []
  },
  {
   "cell_type": "code",
   "execution_count": null,
   "metadata": {},
   "outputs": [],
   "source": []
  }
 ],
 "metadata": {
  "kernelspec": {
   "display_name": "Python 3",
   "language": "python",
   "name": "python3"
  },
  "language_info": {
   "codemirror_mode": {
    "name": "ipython",
    "version": 3
   },
   "file_extension": ".py",
   "mimetype": "text/x-python",
   "name": "python",
   "nbconvert_exporter": "python",
   "pygments_lexer": "ipython3",
   "version": "3.8.3"
  }
 },
 "nbformat": 4,
 "nbformat_minor": 4
}
