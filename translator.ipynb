{
 "cells": [
  {
   "cell_type": "code",
   "execution_count": null,
   "metadata": {},
   "outputs": [],
   "source": [
    "from googletrans import Translator\n",
    "from google.transliteration import transliterate_word\n",
    "import json\n",
    "import re\n",
    "import os, time"
   ]
  },
  {
   "cell_type": "code",
   "execution_count": null,
   "metadata": {},
   "outputs": [],
   "source": []
  },
  {
   "cell_type": "code",
   "execution_count": null,
   "metadata": {},
   "outputs": [],
   "source": [
    "filename = 'artists-corpus/sinhala_artists_data_1.json'"
   ]
  },
  {
   "cell_type": "code",
   "execution_count": null,
   "metadata": {},
   "outputs": [],
   "source": [
    "with open (filename,'w') as f:\n",
    "            f.write(json.dumps([]))  "
   ]
  },
  {
   "cell_type": "code",
   "execution_count": null,
   "metadata": {},
   "outputs": [],
   "source": []
  },
  {
   "cell_type": "code",
   "execution_count": null,
   "metadata": {},
   "outputs": [],
   "source": [
    "def translate(text):\n",
    "    if text:\n",
    "        ar = translator.translate(text, dest='si')\n",
    "        return ar.text\n",
    "    else:\n",
    "        return \"\""
   ]
  },
  {
   "cell_type": "code",
   "execution_count": null,
   "metadata": {},
   "outputs": [],
   "source": [
    "def transliterate(text):\n",
    "    ar = transliterate_word(text, lang_code='si')\n",
    "    return ar[0]"
   ]
  },
  {
   "cell_type": "code",
   "execution_count": null,
   "metadata": {},
   "outputs": [],
   "source": [
    "def translate_filmography(filmography):\n",
    "    print (\"started translating filmography...\")\n",
    "    response = []\n",
    "    for film in filmography:\n",
    "        film_si = {}\n",
    "        film_si['film_name_si'] =  transliterate(film['film_name_en']) \n",
    "        film_si['role_name_si'] =  translate(film['role_name_en'])\n",
    "        \n",
    "        print(film_si)\n",
    "        \n",
    "        response.append(film_si)\n",
    "\n",
    "        \n",
    "    print (\"translating filmography completed!\")\n",
    "    return response"
   ]
  },
  {
   "cell_type": "code",
   "execution_count": null,
   "metadata": {},
   "outputs": [],
   "source": [
    "def translate_biography(bio):\n",
    "    print (\"started translating bio...\")\n",
    "    bio = parse_biography(bio)\n",
    "    translation = \"\"\n",
    "    for line in bio:\n",
    "        if len(line) > 2:\n",
    "            translation += translate(line)\n",
    "        \n",
    "    print (\"translating bio completed!\")\n",
    "    return translation     "
   ]
  },
  {
   "cell_type": "code",
   "execution_count": null,
   "metadata": {},
   "outputs": [],
   "source": [
    "def parse_biography(bio):\n",
    "    return bio.strip().split(\"\\r\\n\\t\")"
   ]
  },
  {
   "cell_type": "code",
   "execution_count": null,
   "metadata": {},
   "outputs": [],
   "source": [
    "def translate_awards(awards):\n",
    "    print (\"started translating awards...\")\n",
    "    response = []\n",
    "    \n",
    "    for award in awards:\n",
    "        award_si = {}\n",
    "        award_si['award_name_si'] =  \"\"\n",
    "        award_si['award_ceremony_name_si'] =  \"\"\n",
    "        award_si['film_name_si'] =  \"\"\n",
    "        \n",
    "        if (award['award_name_en']): \n",
    "            award_si['award_name_si'] =  translate(award['award_name_en']) \n",
    "            \n",
    "        if (award['award_ceremony_name_en']): \n",
    "            award_si['award_ceremony_name_si'] =  translate(award['award_ceremony_name_en'])\n",
    "            \n",
    "        if (award['film_name_en']): \n",
    "            award_si['film_name_si'] =  transliterate(award['film_name_en'])\n",
    "        \n",
    "        print(award_si)\n",
    "        \n",
    "        response.append(award_si)\n",
    "\n",
    "        \n",
    "    print (\"translating awards completed!\")\n",
    "    return response\n",
    "    "
   ]
  },
  {
   "cell_type": "code",
   "execution_count": null,
   "metadata": {},
   "outputs": [],
   "source": [
    "def translate_artist_json(artist_json, start, end):\n",
    "    \n",
    "    print(\"translating from \" + str(start) + \" to \" + str(end-1) + \" ... \", )\n",
    "    \n",
    "    for idx in range(start, end):\n",
    "        artist = artist_json[idx]\n",
    "        \n",
    "        print(\"started translating: \" + artist['known_as_en'] + \" | index: \" + str(idx) )\n",
    "        \n",
    "        artist_data = {}\n",
    "        \n",
    "        known_as_si = transliterate(artist['known_as_en'])\n",
    "        \n",
    "        if artist['real_name_en'] != '':\n",
    "            real_name_si = transliterate(artist['real_name_en'])\n",
    "        else:    \n",
    "            real_name_si = known_as_si\n",
    "            \n",
    "        birth_si = translate(artist['birth_en'])\n",
    "        death_si = translate(artist['death_en'])\n",
    "        biography_si = translate_biography(artist['biography_en'])\n",
    "        national_awards_si = translate_awards(artist['national_awards_en'])\n",
    "        filmography_si = translate_filmography(artist['filmography_en'])\n",
    "       \n",
    "        # final json format\n",
    "        artist_data[\"known_as_en\"] = artist['known_as_en']\n",
    "        \n",
    "        if (artist['known_as_si']==\"\"):\n",
    "            artist_data[\"known_as_si\"] = known_as_si\n",
    "        else:    \n",
    "            artist_data[\"known_as_si\"] = artist['known_as_si']\n",
    "            \n",
    "        if (artist['real_name_en'] == ''):\n",
    "            artist_data[\"real_name_en\"] = artist['known_as_en'] \n",
    "        else:    \n",
    "            artist_data[\"real_name_en\"] = artist['real_name_en']    \n",
    "        \n",
    "\n",
    "        if (artist['real_name_en'] == artist['known_as_en']): \n",
    "            artist_data[\"real_name_si\"] = artist['known_as_si']\n",
    "        else:\n",
    "            artist_data[\"real_name_si\"] = real_name_si\n",
    "        \n",
    "        artist_data[\"birth_en\"] = artist['birth_en']\n",
    "        artist_data[\"birth_si\"] = birth_si\n",
    "        \n",
    "        artist_data[\"death_en\"] = artist['death_en']\n",
    "        artist_data[\"death_si\"] = death_si\n",
    "        \n",
    "        artist_data[\"biography_en\"] = artist['biography_en']\n",
    "        artist_data[\"biography_si\"] = biography_si\n",
    "        \n",
    "        artist_data[\"national_awards_en\"] = artist['national_awards_en']\n",
    "        artist_data[\"national_awards_si\"] = national_awards_si\n",
    "        \n",
    "        artist_data[\"filmography_en\"] = artist['filmography_en']\n",
    "        artist_data[\"filmography_si\"] = filmography_si\n",
    "\n",
    "\n",
    "        with open (filename,'r') as f:\n",
    "            data = json.load(f)\n",
    "        \n",
    "        data.append(artist_data)\n",
    "        \n",
    "        with open(filename, \"w\") as f:\n",
    "            json.dump(data, f)\n",
    "            \n",
    "        print(\"completed translating : \" + artist_data['known_as_si'] )    \n"
   ]
  },
  {
   "cell_type": "code",
   "execution_count": null,
   "metadata": {},
   "outputs": [],
   "source": [
    "translator = Translator()\n",
    "content = open(\"artists-corpus/artists_data.json\", 'r').read()\n",
    "artist_json = json.loads(content)\n",
    "\n",
    "print(\"translating \" + str(len(artist_json)) + \" records... \", )\n"
   ]
  },
  {
   "cell_type": "code",
   "execution_count": null,
   "metadata": {},
   "outputs": [],
   "source": [
    "translate_artist_json(artist_json, 0, 5)"
   ]
  },
  {
   "cell_type": "code",
   "execution_count": null,
   "metadata": {},
   "outputs": [],
   "source": [
    "print(\"translating completed!!! \")"
   ]
  },
  {
   "cell_type": "code",
   "execution_count": null,
   "metadata": {},
   "outputs": [],
   "source": []
  },
  {
   "cell_type": "code",
   "execution_count": null,
   "metadata": {},
   "outputs": [],
   "source": [
    "translate_artist_json(artist_json, 5, 50)"
   ]
  },
  {
   "cell_type": "code",
   "execution_count": null,
   "metadata": {},
   "outputs": [],
   "source": [
    "print(\"translating completed!!! \")"
   ]
  },
  {
   "cell_type": "code",
   "execution_count": null,
   "metadata": {},
   "outputs": [],
   "source": []
  },
  {
   "cell_type": "code",
   "execution_count": null,
   "metadata": {},
   "outputs": [],
   "source": [
    "translate_artist_json(artist_json, 50, 60)"
   ]
  },
  {
   "cell_type": "code",
   "execution_count": null,
   "metadata": {},
   "outputs": [],
   "source": [
    "print(\"translating completed!!! \")"
   ]
  },
  {
   "cell_type": "code",
   "execution_count": null,
   "metadata": {},
   "outputs": [],
   "source": []
  },
  {
   "cell_type": "code",
   "execution_count": null,
   "metadata": {},
   "outputs": [],
   "source": [
    "translate_artist_json(artist_json, 61, 70)"
   ]
  },
  {
   "cell_type": "code",
   "execution_count": null,
   "metadata": {},
   "outputs": [],
   "source": [
    "print(\"translating completed!!! \")"
   ]
  },
  {
   "cell_type": "code",
   "execution_count": null,
   "metadata": {},
   "outputs": [],
   "source": []
  },
  {
   "cell_type": "code",
   "execution_count": null,
   "metadata": {},
   "outputs": [],
   "source": [
    "translate_artist_json(artist_json, 70, 100)"
   ]
  },
  {
   "cell_type": "code",
   "execution_count": null,
   "metadata": {},
   "outputs": [],
   "source": [
    "print(\"translating completed!!! \")"
   ]
  },
  {
   "cell_type": "code",
   "execution_count": null,
   "metadata": {},
   "outputs": [],
   "source": [
    "translate_artist_json(artist_json, 100, 150)"
   ]
  },
  {
   "cell_type": "code",
   "execution_count": null,
   "metadata": {},
   "outputs": [],
   "source": [
    "print(\"translating completed!!! \")"
   ]
  },
  {
   "cell_type": "code",
   "execution_count": null,
   "metadata": {},
   "outputs": [],
   "source": [
    "translate_artist_json(artist_json, 150, 250)"
   ]
  },
  {
   "cell_type": "code",
   "execution_count": null,
   "metadata": {},
   "outputs": [],
   "source": [
    "print(\"translating completed!!! \")"
   ]
  },
  {
   "cell_type": "code",
   "execution_count": null,
   "metadata": {},
   "outputs": [],
   "source": [
    "translate_artist_json(artist_json, 250, 350)"
   ]
  },
  {
   "cell_type": "code",
   "execution_count": null,
   "metadata": {},
   "outputs": [],
   "source": [
    "print(\"translating completed!!! \")"
   ]
  },
  {
   "cell_type": "code",
   "execution_count": null,
   "metadata": {},
   "outputs": [],
   "source": [
    "translate_artist_json(artist_json, 350, 366)"
   ]
  },
  {
   "cell_type": "code",
   "execution_count": null,
   "metadata": {},
   "outputs": [],
   "source": [
    "print(\"translating completed!!! \")"
   ]
  },
  {
   "cell_type": "code",
   "execution_count": null,
   "metadata": {},
   "outputs": [],
   "source": []
  },
  {
   "cell_type": "code",
   "execution_count": null,
   "metadata": {},
   "outputs": [],
   "source": []
  },
  {
   "cell_type": "code",
   "execution_count": null,
   "metadata": {},
   "outputs": [],
   "source": []
  }
 ],
 "metadata": {
  "kernelspec": {
   "display_name": "Python 3",
   "language": "python",
   "name": "python3"
  },
  "language_info": {
   "codemirror_mode": {
    "name": "ipython",
    "version": 3
   },
   "file_extension": ".py",
   "mimetype": "text/x-python",
   "name": "python",
   "nbconvert_exporter": "python",
   "pygments_lexer": "ipython3",
   "version": "3.8.3"
  }
 },
 "nbformat": 4,
 "nbformat_minor": 4
}
